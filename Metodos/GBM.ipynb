{
  "nbformat": 4,
  "nbformat_minor": 0,
  "metadata": {
    "colab": {
      "provenance": []
    },
    "kernelspec": {
      "name": "python3",
      "display_name": "Python 3"
    },
    "language_info": {
      "name": "python"
    }
  },
  "cells": [
    {
      "cell_type": "markdown",
      "source": [
        "# Gradient Boosting Classifier\n",
        "\n",
        "A continuación se entrena un modelo de Gradient Boosting Classification para predecir el conjunto de datos del Titanic."
      ],
      "metadata": {
        "id": "bbCz5mGHQEnO"
      }
    },
    {
      "cell_type": "markdown",
      "source": [
        "## Limpieza de Datos"
      ],
      "metadata": {
        "id": "3cWVPwtAkORp"
      }
    },
    {
      "cell_type": "code",
      "execution_count": 2,
      "metadata": {
        "colab": {
          "base_uri": "https://localhost:8080/"
        },
        "id": "mulCa0HQgy15",
        "outputId": "5bb51e76-8013-4c10-8d1e-3013fe81102f"
      },
      "outputs": [
        {
          "output_type": "stream",
          "name": "stdout",
          "text": [
            "Mounted at /content/gdrive\n"
          ]
        }
      ],
      "source": [
        "import numpy as np\n",
        "import pandas as pd\n",
        "import re\n",
        "import matplotlib.pyplot as plt\n",
        "from google.colab import drive\n",
        "drive.mount('/content/gdrive')"
      ]
    },
    {
      "cell_type": "markdown",
      "source": [
        "### Importar archivos"
      ],
      "metadata": {
        "id": "nRveQqY-jXBo"
      }
    },
    {
      "cell_type": "code",
      "source": [
        "train_data= pd.read_csv(\"/content/gdrive/MyDrive/Colab Notebooks/titanic/train.csv\")\n",
        "df_test = pd.read_csv(\"/content/gdrive/MyDrive/Colab Notebooks/titanic/test.csv\")"
      ],
      "metadata": {
        "id": "DKNrdM0sibJg"
      },
      "execution_count": 3,
      "outputs": []
    },
    {
      "cell_type": "markdown",
      "source": [
        "### Identificación de datos nulos\n"
      ],
      "metadata": {
        "id": "tO_ZAqJ4hvVz"
      }
    },
    {
      "cell_type": "code",
      "source": [
        " # Contar los valores nulos en cada columna\n",
        "null_counts = train_data.isnull().sum()\n",
        "\n",
        "print(null_counts)"
      ],
      "metadata": {
        "colab": {
          "base_uri": "https://localhost:8080/"
        },
        "id": "xSP0UgqihCiF",
        "outputId": "8c8aa5ab-7281-4e55-9f8d-5a9f5649b231"
      },
      "execution_count": 4,
      "outputs": [
        {
          "output_type": "stream",
          "name": "stdout",
          "text": [
            "PassengerId      0\n",
            "Survived         0\n",
            "Pclass           0\n",
            "Name             0\n",
            "Sex              0\n",
            "Age            177\n",
            "SibSp            0\n",
            "Parch            0\n",
            "Ticket           0\n",
            "Fare             0\n",
            "Cabin          687\n",
            "Embarked         2\n",
            "dtype: int64\n"
          ]
        }
      ]
    },
    {
      "cell_type": "markdown",
      "source": [
        "En porcentaje:"
      ],
      "metadata": {
        "id": "TVabvGcgPfQl"
      }
    },
    {
      "cell_type": "code",
      "source": [
        "#Obtenemos lo mismo pero con porcentajes\n",
        "null_percentages = (train_data.isnull().sum() / len(train_data)) * 100\n",
        "print(null_percentages)"
      ],
      "metadata": {
        "colab": {
          "base_uri": "https://localhost:8080/"
        },
        "id": "76xolWXDkm1H",
        "outputId": "7dd58cb0-d8c3-47ea-f176-2a11d7eef797"
      },
      "execution_count": 5,
      "outputs": [
        {
          "output_type": "stream",
          "name": "stdout",
          "text": [
            "PassengerId     0.000000\n",
            "Survived        0.000000\n",
            "Pclass          0.000000\n",
            "Name            0.000000\n",
            "Sex             0.000000\n",
            "Age            19.865320\n",
            "SibSp           0.000000\n",
            "Parch           0.000000\n",
            "Ticket          0.000000\n",
            "Fare            0.000000\n",
            "Cabin          77.104377\n",
            "Embarked        0.224467\n",
            "dtype: float64\n"
          ]
        }
      ]
    },
    {
      "cell_type": "markdown",
      "source": [
        "### Cambio de datos nulos en *AGE*\n",
        "El objetivo de esta porción de código es extraer los títulos de las personas de la columna \"Name\" en el conjunto de datos. Los nombres de las personas incluyen títulos como \"Mr.\", \"Mrs.\", \"Dr.\", etc. Extraemos estos titulo, se meten en grupos y se cada el promedio para cada uno, luego si existe una edad faltante para un pasajero se encuentra esta relacion y se pone la media del grupo al que pertenece.\n"
      ],
      "metadata": {
        "id": "f6CpLUwClcEW"
      }
    },
    {
      "cell_type": "code",
      "source": [
        "# Primero extraemos los titulos de de la columna Name\n",
        "train_data['Title'] = train_data['Name'].apply(lambda x: re.search(' ([A-Za-z]+)\\.', x).group(1))\n",
        "\n",
        "df_test['Title'] = df_test['Name'].apply(lambda x: re.search(' ([A-Za-z]+)\\.', x).group(1))\n",
        "#La funcion  (=re.search(' ([A-Za-z]+)\\.', x) encuentra la relacion de un espacio, luego uno o más caracteres alfabéticos en mayúsculas o minúsculas, seguidos de un punto.\n",
        "\n",
        "# Calculamos la media para data titulo\n",
        "median_age_by_title = train_data.groupby('Title')['Age'].median()\n",
        "\n",
        "# Ponemos las edades en donde falten\n",
        "for title, median_age in median_age_by_title.items():\n",
        "    train_data.loc[(train_data['Age'].isnull()) & (train_data['Title'] == title), 'Age'] = median_age\n",
        "\n",
        "for title, median_age in median_age_by_title.items():\n",
        "    df_test.loc[(df_test['Age'].isnull()) & (df_test['Title'] == title), 'Age'] = median_age"
      ],
      "metadata": {
        "id": "78hFZvCEpxKb"
      },
      "execution_count": 6,
      "outputs": []
    },
    {
      "cell_type": "code",
      "source": [
        "#Imprimimos la edad media de cada grupo\n",
        "print(median_age_by_title)"
      ],
      "metadata": {
        "colab": {
          "base_uri": "https://localhost:8080/"
        },
        "id": "wm3-iT1FkS1I",
        "outputId": "cefc83f0-1cb2-4bec-a895-75b9410aac12"
      },
      "execution_count": 7,
      "outputs": [
        {
          "output_type": "stream",
          "name": "stdout",
          "text": [
            "Title\n",
            "Capt        70.0\n",
            "Col         58.0\n",
            "Countess    33.0\n",
            "Don         40.0\n",
            "Dr          46.5\n",
            "Jonkheer    38.0\n",
            "Lady        48.0\n",
            "Major       48.5\n",
            "Master       3.5\n",
            "Miss        21.0\n",
            "Mlle        24.0\n",
            "Mme         24.0\n",
            "Mr          30.0\n",
            "Mrs         35.0\n",
            "Ms          28.0\n",
            "Rev         46.5\n",
            "Sir         49.0\n",
            "Name: Age, dtype: float64\n"
          ]
        }
      ]
    },
    {
      "cell_type": "markdown",
      "source": [
        "### Sustitucion de Sexo y cabino por valores binarios\n",
        "En el archivo de analisis exploratorio para poder hacer la matriz de correlacion, se necesito aplicar el cambio de estas variables a numericos,y vemos que esto es posible debido a que podemos decir que entre sexos hay prioridad ya que las mujeres tienen muchas mas posibilidades de sobrevivir, y  para la cabina se ve si hay cabina asignada o no la hay."
      ],
      "metadata": {
        "id": "wIYt_82Ls6oh"
      }
    },
    {
      "cell_type": "code",
      "source": [
        "median_age_by_title = train_data.groupby('Pclass')['Fare'].median()\n",
        "median_age_by_title"
      ],
      "metadata": {
        "colab": {
          "base_uri": "https://localhost:8080/"
        },
        "id": "4HbHWztutKXL",
        "outputId": "07259a68-4b92-4740-b0c1-1ca8348749bf"
      },
      "execution_count": 8,
      "outputs": [
        {
          "output_type": "execute_result",
          "data": {
            "text/plain": [
              "Pclass\n",
              "1    60.2875\n",
              "2    14.2500\n",
              "3     8.0500\n",
              "Name: Fare, dtype: float64"
            ]
          },
          "metadata": {},
          "execution_count": 8
        }
      ]
    },
    {
      "cell_type": "code",
      "source": [
        "df_test.isna().sum()"
      ],
      "metadata": {
        "colab": {
          "base_uri": "https://localhost:8080/"
        },
        "id": "WYzMiKajtMQ1",
        "outputId": "ec47f36f-5b89-4dc0-c13a-6c979fcbc7ed"
      },
      "execution_count": 9,
      "outputs": [
        {
          "output_type": "execute_result",
          "data": {
            "text/plain": [
              "PassengerId      0\n",
              "Pclass           0\n",
              "Name             0\n",
              "Sex              0\n",
              "Age              0\n",
              "SibSp            0\n",
              "Parch            0\n",
              "Ticket           0\n",
              "Fare             1\n",
              "Cabin          327\n",
              "Embarked         0\n",
              "Title            0\n",
              "dtype: int64"
            ]
          },
          "metadata": {},
          "execution_count": 9
        }
      ]
    },
    {
      "cell_type": "code",
      "source": [
        "train_data['Sex'] = train_data['Sex'].map({\"male\":1,\n",
        "\"female\":0})\n",
        "train_data['Cabin'] = np.where(train_data['Cabin'].isnull(), 0, 1)\n",
        "\n",
        "df_test['Sex'] = df_test['Sex'].map({\"male\":1,\n",
        "\"female\":0})\n",
        "\n",
        "df_test['Cabin'] = np.where(df_test['Cabin'].isnull(), 0, 1)"
      ],
      "metadata": {
        "id": "cBMyQ7hgNysj"
      },
      "execution_count": 10,
      "outputs": []
    },
    {
      "cell_type": "code",
      "source": [
        "df_test[df_test['Fare'].isna()]"
      ],
      "metadata": {
        "colab": {
          "base_uri": "https://localhost:8080/",
          "height": 80
        },
        "id": "CXQOZQP8tRbf",
        "outputId": "44bb0a22-5fba-4816-bfca-686f9dfd86b1"
      },
      "execution_count": 11,
      "outputs": [
        {
          "output_type": "execute_result",
          "data": {
            "text/plain": [
              "     PassengerId  Pclass                Name  Sex   Age  SibSp  Parch Ticket  \\\n",
              "152         1044       3  Storey, Mr. Thomas    1  60.5      0      0   3701   \n",
              "\n",
              "     Fare  Cabin Embarked Title  \n",
              "152   NaN      0        S    Mr  "
            ],
            "text/html": [
              "\n",
              "  <div id=\"df-faba4b12-40c0-41b1-8862-a1fa7d32da78\" class=\"colab-df-container\">\n",
              "    <div>\n",
              "<style scoped>\n",
              "    .dataframe tbody tr th:only-of-type {\n",
              "        vertical-align: middle;\n",
              "    }\n",
              "\n",
              "    .dataframe tbody tr th {\n",
              "        vertical-align: top;\n",
              "    }\n",
              "\n",
              "    .dataframe thead th {\n",
              "        text-align: right;\n",
              "    }\n",
              "</style>\n",
              "<table border=\"1\" class=\"dataframe\">\n",
              "  <thead>\n",
              "    <tr style=\"text-align: right;\">\n",
              "      <th></th>\n",
              "      <th>PassengerId</th>\n",
              "      <th>Pclass</th>\n",
              "      <th>Name</th>\n",
              "      <th>Sex</th>\n",
              "      <th>Age</th>\n",
              "      <th>SibSp</th>\n",
              "      <th>Parch</th>\n",
              "      <th>Ticket</th>\n",
              "      <th>Fare</th>\n",
              "      <th>Cabin</th>\n",
              "      <th>Embarked</th>\n",
              "      <th>Title</th>\n",
              "    </tr>\n",
              "  </thead>\n",
              "  <tbody>\n",
              "    <tr>\n",
              "      <th>152</th>\n",
              "      <td>1044</td>\n",
              "      <td>3</td>\n",
              "      <td>Storey, Mr. Thomas</td>\n",
              "      <td>1</td>\n",
              "      <td>60.5</td>\n",
              "      <td>0</td>\n",
              "      <td>0</td>\n",
              "      <td>3701</td>\n",
              "      <td>NaN</td>\n",
              "      <td>0</td>\n",
              "      <td>S</td>\n",
              "      <td>Mr</td>\n",
              "    </tr>\n",
              "  </tbody>\n",
              "</table>\n",
              "</div>\n",
              "    <div class=\"colab-df-buttons\">\n",
              "\n",
              "  <div class=\"colab-df-container\">\n",
              "    <button class=\"colab-df-convert\" onclick=\"convertToInteractive('df-faba4b12-40c0-41b1-8862-a1fa7d32da78')\"\n",
              "            title=\"Convert this dataframe to an interactive table.\"\n",
              "            style=\"display:none;\">\n",
              "\n",
              "  <svg xmlns=\"http://www.w3.org/2000/svg\" height=\"24px\" viewBox=\"0 -960 960 960\">\n",
              "    <path d=\"M120-120v-720h720v720H120Zm60-500h600v-160H180v160Zm220 220h160v-160H400v160Zm0 220h160v-160H400v160ZM180-400h160v-160H180v160Zm440 0h160v-160H620v160ZM180-180h160v-160H180v160Zm440 0h160v-160H620v160Z\"/>\n",
              "  </svg>\n",
              "    </button>\n",
              "\n",
              "  <style>\n",
              "    .colab-df-container {\n",
              "      display:flex;\n",
              "      gap: 12px;\n",
              "    }\n",
              "\n",
              "    .colab-df-convert {\n",
              "      background-color: #E8F0FE;\n",
              "      border: none;\n",
              "      border-radius: 50%;\n",
              "      cursor: pointer;\n",
              "      display: none;\n",
              "      fill: #1967D2;\n",
              "      height: 32px;\n",
              "      padding: 0 0 0 0;\n",
              "      width: 32px;\n",
              "    }\n",
              "\n",
              "    .colab-df-convert:hover {\n",
              "      background-color: #E2EBFA;\n",
              "      box-shadow: 0px 1px 2px rgba(60, 64, 67, 0.3), 0px 1px 3px 1px rgba(60, 64, 67, 0.15);\n",
              "      fill: #174EA6;\n",
              "    }\n",
              "\n",
              "    .colab-df-buttons div {\n",
              "      margin-bottom: 4px;\n",
              "    }\n",
              "\n",
              "    [theme=dark] .colab-df-convert {\n",
              "      background-color: #3B4455;\n",
              "      fill: #D2E3FC;\n",
              "    }\n",
              "\n",
              "    [theme=dark] .colab-df-convert:hover {\n",
              "      background-color: #434B5C;\n",
              "      box-shadow: 0px 1px 3px 1px rgba(0, 0, 0, 0.15);\n",
              "      filter: drop-shadow(0px 1px 2px rgba(0, 0, 0, 0.3));\n",
              "      fill: #FFFFFF;\n",
              "    }\n",
              "  </style>\n",
              "\n",
              "    <script>\n",
              "      const buttonEl =\n",
              "        document.querySelector('#df-faba4b12-40c0-41b1-8862-a1fa7d32da78 button.colab-df-convert');\n",
              "      buttonEl.style.display =\n",
              "        google.colab.kernel.accessAllowed ? 'block' : 'none';\n",
              "\n",
              "      async function convertToInteractive(key) {\n",
              "        const element = document.querySelector('#df-faba4b12-40c0-41b1-8862-a1fa7d32da78');\n",
              "        const dataTable =\n",
              "          await google.colab.kernel.invokeFunction('convertToInteractive',\n",
              "                                                    [key], {});\n",
              "        if (!dataTable) return;\n",
              "\n",
              "        const docLinkHtml = 'Like what you see? Visit the ' +\n",
              "          '<a target=\"_blank\" href=https://colab.research.google.com/notebooks/data_table.ipynb>data table notebook</a>'\n",
              "          + ' to learn more about interactive tables.';\n",
              "        element.innerHTML = '';\n",
              "        dataTable['output_type'] = 'display_data';\n",
              "        await google.colab.output.renderOutput(dataTable, element);\n",
              "        const docLink = document.createElement('div');\n",
              "        docLink.innerHTML = docLinkHtml;\n",
              "        element.appendChild(docLink);\n",
              "      }\n",
              "    </script>\n",
              "  </div>\n",
              "\n",
              "    </div>\n",
              "  </div>\n"
            ]
          },
          "metadata": {},
          "execution_count": 11
        }
      ]
    },
    {
      "cell_type": "code",
      "source": [
        "df_test = df_test.fillna({'Fare': 8.0500})"
      ],
      "metadata": {
        "id": "IgQlaU52tTSy"
      },
      "execution_count": 12,
      "outputs": []
    },
    {
      "cell_type": "code",
      "source": [
        " # Contamos los valores nulos en la columna de edad en nuestro neuvo data frame\n",
        "null_counts = train_data.isnull().sum()\n",
        "\n",
        "print(null_counts)"
      ],
      "metadata": {
        "colab": {
          "base_uri": "https://localhost:8080/"
        },
        "id": "T2Lx2QXBxzj_",
        "outputId": "4dc11135-6084-4a6d-9de0-61e5080c8327"
      },
      "execution_count": 13,
      "outputs": [
        {
          "output_type": "stream",
          "name": "stdout",
          "text": [
            "PassengerId    0\n",
            "Survived       0\n",
            "Pclass         0\n",
            "Name           0\n",
            "Sex            0\n",
            "Age            0\n",
            "SibSp          0\n",
            "Parch          0\n",
            "Ticket         0\n",
            "Fare           0\n",
            "Cabin          0\n",
            "Embarked       2\n",
            "Title          0\n",
            "dtype: int64\n"
          ]
        }
      ]
    },
    {
      "cell_type": "markdown",
      "source": [
        "Remplazo de Embarked por los valores con mas frecuencia en el dataset"
      ],
      "metadata": {
        "id": "jcPduYdesAQI"
      }
    },
    {
      "cell_type": "code",
      "source": [
        "train_data[\"Embarked\"].fillna(\"S\", inplace = True)\n",
        "null_counts = train_data.isnull().sum()\n",
        "\n",
        "print(null_counts)"
      ],
      "metadata": {
        "id": "2u3VjFpFr_1v",
        "colab": {
          "base_uri": "https://localhost:8080/"
        },
        "outputId": "04b1a23c-0334-4cfd-e3bc-1dd8fac389db"
      },
      "execution_count": 14,
      "outputs": [
        {
          "output_type": "stream",
          "name": "stdout",
          "text": [
            "PassengerId    0\n",
            "Survived       0\n",
            "Pclass         0\n",
            "Name           0\n",
            "Sex            0\n",
            "Age            0\n",
            "SibSp          0\n",
            "Parch          0\n",
            "Ticket         0\n",
            "Fare           0\n",
            "Cabin          0\n",
            "Embarked       0\n",
            "Title          0\n",
            "dtype: int64\n"
          ]
        }
      ]
    },
    {
      "cell_type": "code",
      "source": [
        "train_data['Embarked_S'] = np.where(train_data['Embarked']=='S',1,0)\n",
        "train_data['Embarked_Q'] = np.where(train_data['Embarked']=='Q',1,0)\n",
        "train_data['Embarked_C'] = np.where(train_data['Embarked']=='C',1,0)\n",
        "\n",
        "df_test['Embarked_S'] = np.where(df_test['Embarked']=='S',1,0)\n",
        "df_test['Embarked_Q'] = np.where(df_test['Embarked']=='Q',1,0)\n",
        "df_test['Embarked_C'] = np.where(df_test['Embarked']=='C',1,0)"
      ],
      "metadata": {
        "id": "vQ88ZTCVZ-G0"
      },
      "execution_count": 15,
      "outputs": []
    },
    {
      "cell_type": "markdown",
      "source": [
        "Eliminar columnas no numéricas"
      ],
      "metadata": {
        "id": "qvYfCKf3hKsC"
      }
    },
    {
      "cell_type": "code",
      "source": [
        "y_train = train_data['Survived']\n",
        "drop_cols = ['PassengerId', 'Survived', 'Ticket', 'Embarked', 'Title', 'Name']\n",
        "X_train= train_data.drop(drop_cols, axis = 1)\n",
        "y_train = [y_train]"
      ],
      "metadata": {
        "id": "3EM4UYqotpNl"
      },
      "execution_count": 16,
      "outputs": []
    },
    {
      "cell_type": "code",
      "source": [
        "y_train =np.array(y_train) # Convertir y_train a array\n",
        "y_train = y_train.ravel() # Invertimos de (1, 891) a (891, 1)"
      ],
      "metadata": {
        "id": "L30Qbdq-OSre"
      },
      "execution_count": 17,
      "outputs": []
    },
    {
      "cell_type": "markdown",
      "source": [
        "## Modelo de aprendizaje automático: Gradient Boosting Classifier\n",
        "A continuación se entrena el modelo de aprendizaje automático. Se optó en este caso por utilizar un modelo de potenciación de gradiente."
      ],
      "metadata": {
        "id": "hjm-2iJ9PoPJ"
      }
    },
    {
      "cell_type": "code",
      "source": [
        "from sklearn.ensemble import GradientBoostingClassifier\n",
        "from sklearn.metrics import confusion_matrix, precision_recall_curve, roc_curve\n",
        "import matplotlib.pyplot as plt\n",
        "import seaborn as sns\n",
        "\n",
        "# Crear el modelo de GBM\n",
        "gbm_model = GradientBoostingClassifier()\n",
        "\n",
        "# Entrenar el modelo\n",
        "gbm_model.fit(X_train, y_train)\n"
      ],
      "metadata": {
        "id": "mwnPkLjjtdwd",
        "colab": {
          "base_uri": "https://localhost:8080/",
          "height": 74
        },
        "outputId": "4326ac30-3bdb-4b19-ae60-bf031b399ee3"
      },
      "execution_count": 18,
      "outputs": [
        {
          "output_type": "execute_result",
          "data": {
            "text/plain": [
              "GradientBoostingClassifier()"
            ],
            "text/html": [
              "<style>#sk-container-id-1 {color: black;background-color: white;}#sk-container-id-1 pre{padding: 0;}#sk-container-id-1 div.sk-toggleable {background-color: white;}#sk-container-id-1 label.sk-toggleable__label {cursor: pointer;display: block;width: 100%;margin-bottom: 0;padding: 0.3em;box-sizing: border-box;text-align: center;}#sk-container-id-1 label.sk-toggleable__label-arrow:before {content: \"▸\";float: left;margin-right: 0.25em;color: #696969;}#sk-container-id-1 label.sk-toggleable__label-arrow:hover:before {color: black;}#sk-container-id-1 div.sk-estimator:hover label.sk-toggleable__label-arrow:before {color: black;}#sk-container-id-1 div.sk-toggleable__content {max-height: 0;max-width: 0;overflow: hidden;text-align: left;background-color: #f0f8ff;}#sk-container-id-1 div.sk-toggleable__content pre {margin: 0.2em;color: black;border-radius: 0.25em;background-color: #f0f8ff;}#sk-container-id-1 input.sk-toggleable__control:checked~div.sk-toggleable__content {max-height: 200px;max-width: 100%;overflow: auto;}#sk-container-id-1 input.sk-toggleable__control:checked~label.sk-toggleable__label-arrow:before {content: \"▾\";}#sk-container-id-1 div.sk-estimator input.sk-toggleable__control:checked~label.sk-toggleable__label {background-color: #d4ebff;}#sk-container-id-1 div.sk-label input.sk-toggleable__control:checked~label.sk-toggleable__label {background-color: #d4ebff;}#sk-container-id-1 input.sk-hidden--visually {border: 0;clip: rect(1px 1px 1px 1px);clip: rect(1px, 1px, 1px, 1px);height: 1px;margin: -1px;overflow: hidden;padding: 0;position: absolute;width: 1px;}#sk-container-id-1 div.sk-estimator {font-family: monospace;background-color: #f0f8ff;border: 1px dotted black;border-radius: 0.25em;box-sizing: border-box;margin-bottom: 0.5em;}#sk-container-id-1 div.sk-estimator:hover {background-color: #d4ebff;}#sk-container-id-1 div.sk-parallel-item::after {content: \"\";width: 100%;border-bottom: 1px solid gray;flex-grow: 1;}#sk-container-id-1 div.sk-label:hover label.sk-toggleable__label {background-color: #d4ebff;}#sk-container-id-1 div.sk-serial::before {content: \"\";position: absolute;border-left: 1px solid gray;box-sizing: border-box;top: 0;bottom: 0;left: 50%;z-index: 0;}#sk-container-id-1 div.sk-serial {display: flex;flex-direction: column;align-items: center;background-color: white;padding-right: 0.2em;padding-left: 0.2em;position: relative;}#sk-container-id-1 div.sk-item {position: relative;z-index: 1;}#sk-container-id-1 div.sk-parallel {display: flex;align-items: stretch;justify-content: center;background-color: white;position: relative;}#sk-container-id-1 div.sk-item::before, #sk-container-id-1 div.sk-parallel-item::before {content: \"\";position: absolute;border-left: 1px solid gray;box-sizing: border-box;top: 0;bottom: 0;left: 50%;z-index: -1;}#sk-container-id-1 div.sk-parallel-item {display: flex;flex-direction: column;z-index: 1;position: relative;background-color: white;}#sk-container-id-1 div.sk-parallel-item:first-child::after {align-self: flex-end;width: 50%;}#sk-container-id-1 div.sk-parallel-item:last-child::after {align-self: flex-start;width: 50%;}#sk-container-id-1 div.sk-parallel-item:only-child::after {width: 0;}#sk-container-id-1 div.sk-dashed-wrapped {border: 1px dashed gray;margin: 0 0.4em 0.5em 0.4em;box-sizing: border-box;padding-bottom: 0.4em;background-color: white;}#sk-container-id-1 div.sk-label label {font-family: monospace;font-weight: bold;display: inline-block;line-height: 1.2em;}#sk-container-id-1 div.sk-label-container {text-align: center;}#sk-container-id-1 div.sk-container {/* jupyter's `normalize.less` sets `[hidden] { display: none; }` but bootstrap.min.css set `[hidden] { display: none !important; }` so we also need the `!important` here to be able to override the default hidden behavior on the sphinx rendered scikit-learn.org. See: https://github.com/scikit-learn/scikit-learn/issues/21755 */display: inline-block !important;position: relative;}#sk-container-id-1 div.sk-text-repr-fallback {display: none;}</style><div id=\"sk-container-id-1\" class=\"sk-top-container\"><div class=\"sk-text-repr-fallback\"><pre>GradientBoostingClassifier()</pre><b>In a Jupyter environment, please rerun this cell to show the HTML representation or trust the notebook. <br />On GitHub, the HTML representation is unable to render, please try loading this page with nbviewer.org.</b></div><div class=\"sk-container\" hidden><div class=\"sk-item\"><div class=\"sk-estimator sk-toggleable\"><input class=\"sk-toggleable__control sk-hidden--visually\" id=\"sk-estimator-id-1\" type=\"checkbox\" checked><label for=\"sk-estimator-id-1\" class=\"sk-toggleable__label sk-toggleable__label-arrow\">GradientBoostingClassifier</label><div class=\"sk-toggleable__content\"><pre>GradientBoostingClassifier()</pre></div></div></div></div></div>"
            ]
          },
          "metadata": {},
          "execution_count": 18
        }
      ]
    },
    {
      "cell_type": "markdown",
      "source": [
        "---"
      ],
      "metadata": {
        "id": "D2xJdjWpgKYo"
      }
    },
    {
      "cell_type": "markdown",
      "source": [
        "### Preparar datos de prueba"
      ],
      "metadata": {
        "id": "NzZwahGQPzym"
      }
    },
    {
      "cell_type": "code",
      "source": [
        "drop_cols = ['PassengerId', 'Ticket', 'Embarked', 'Title', 'Name']\n",
        "output_df = df_test\n",
        "df_test = df_test.drop(drop_cols, axis = 1)"
      ],
      "metadata": {
        "id": "fugszFOGv98v"
      },
      "execution_count": 20,
      "outputs": []
    },
    {
      "cell_type": "markdown",
      "source": [
        "## Realizamos predicciones en el conjunto de datos de prueba con el modelo entrenado anteriormente"
      ],
      "metadata": {
        "id": "10iOSYv_Q7NA"
      }
    },
    {
      "cell_type": "code",
      "source": [
        "# Realizar predicciones en el conjunto de prueba\n",
        "y_pred = gbm_model.predict(df_test)\n",
        "y_pred.tofile('output.csv', sep = '')\n",
        "output_df['Survived'] = y_pred\n",
        "drop_cols = ['Pclass',\t'Name'\t,'Sex'\t,'Age'\t,'SibSp'\t,'Parch'\t,'Ticket',\t'Fare'\t,'Cabin'\t,'Embarked'\t,'Title',\t'Embarked_S',\t'Embarked_Q' ,'Embarked_C']\n",
        "output_df = output_df.drop(drop_cols, axis = 1)\n",
        "output_df.to_csv('output.csv', index = False)"
      ],
      "metadata": {
        "id": "fUakeAeJuAOA"
      },
      "execution_count": 21,
      "outputs": []
    },
    {
      "cell_type": "markdown",
      "source": [
        "Obtener archivo de salida con resultados de predicciones en el conjunto de datos de prueba"
      ],
      "metadata": {
        "id": "DaVPCCPWP5mf"
      }
    }
  ]
}